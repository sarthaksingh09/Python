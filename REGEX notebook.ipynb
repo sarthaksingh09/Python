{
 "cells": [
  {
   "cell_type": "code",
   "execution_count": 2,
   "id": "79fc881f",
   "metadata": {},
   "outputs": [],
   "source": [
    "def sarthak():\n",
    "    \"\"\"\n",
    "    my name is sarthak\n",
    "    \"\"\""
   ]
  },
  {
   "cell_type": "code",
   "execution_count": null,
   "id": "c9a794ee",
   "metadata": {},
   "outputs": [],
   "source": []
  },
  {
   "cell_type": "code",
   "execution_count": null,
   "id": "68b02ffd",
   "metadata": {},
   "outputs": [],
   "source": []
  },
  {
   "cell_type": "code",
   "execution_count": 5,
   "id": "948b16fc",
   "metadata": {},
   "outputs": [
    {
     "data": {
      "text/plain": [
       "'\\n    my name is sarthak\\n    '"
      ]
     },
     "execution_count": 5,
     "metadata": {},
     "output_type": "execute_result"
    }
   ],
   "source": [
    "sarthak.__doc__ "
   ]
  },
  {
   "cell_type": "code",
   "execution_count": 7,
   "id": "4f4627fe",
   "metadata": {},
   "outputs": [
    {
     "data": {
      "text/plain": [
       "0"
      ]
     },
     "execution_count": 7,
     "metadata": {},
     "output_type": "execute_result"
    }
   ],
   "source": [
    "3^3 #xor"
   ]
  },
  {
   "cell_type": "code",
   "execution_count": null,
   "id": "1bc1cdc3",
   "metadata": {},
   "outputs": [],
   "source": [
    "BITWISE :- work on bits"
   ]
  },
  {
   "cell_type": "code",
   "execution_count": 8,
   "id": "2898679f",
   "metadata": {},
   "outputs": [
    {
     "data": {
      "text/plain": [
       "10"
      ]
     },
     "execution_count": 8,
     "metadata": {},
     "output_type": "execute_result"
    }
   ],
   "source": [
    "10 & 11"
   ]
  },
  {
   "cell_type": "code",
   "execution_count": 10,
   "id": "73c608c7",
   "metadata": {},
   "outputs": [
    {
     "data": {
      "text/plain": [
       "11"
      ]
     },
     "execution_count": 10,
     "metadata": {},
     "output_type": "execute_result"
    }
   ],
   "source": [
    "10 | 11"
   ]
  },
  {
   "cell_type": "code",
   "execution_count": null,
   "id": "160d9402",
   "metadata": {},
   "outputs": [],
   "source": [
    "# number // 2**bit      (right shift) \n",
    "\n",
    "# number * 2**bit       (left shift)"
   ]
  },
  {
   "cell_type": "code",
   "execution_count": null,
   "id": "75b4a29e",
   "metadata": {},
   "outputs": [],
   "source": [
    "# bitwise xor op \n",
    "# namespace in python \n",
    "# compiler vs interpreter vs encoder \n"
   ]
  },
  {
   "cell_type": "code",
   "execution_count": 13,
   "id": "28446cd6",
   "metadata": {},
   "outputs": [
    {
     "name": "stdout",
     "output_type": "stream",
     "text": [
      "both the num are not int\n"
     ]
    }
   ],
   "source": [
    "x =10 \n",
    "y = 13.5 \n",
    "\n",
    "\n",
    "if type(x) == int and type(y) == int:\n",
    "    print(x+y) \n",
    "else:\n",
    "    print(\"both the num are not int\")"
   ]
  },
  {
   "cell_type": "code",
   "execution_count": null,
   "id": "64ce9514",
   "metadata": {},
   "outputs": [],
   "source": [
    "# take 3 input and identify minimum \n",
    "\n",
    "# take a string as input take another smaller string  \n",
    "\n",
    "# take a chr from user and identify if it is not vovles   \n",
    "\n",
    "# take a input from a user and perform following tasks \n",
    "\n",
    "    # 1 print date \n",
    "    # 2 create folder on desktop \n",
    "    # 3 check all the files present on desktop \n",
    "    # 4 message on wattsapp \n",
    "    \n",
    "    "
   ]
  },
  {
   "cell_type": "code",
   "execution_count": 24,
   "id": "0a7ec51f",
   "metadata": {},
   "outputs": [
    {
     "name": "stdout",
     "output_type": "stream",
     "text": [
      "enter numbers23 4 67\n"
     ]
    },
    {
     "data": {
      "text/plain": [
       "4"
      ]
     },
     "execution_count": 24,
     "metadata": {},
     "output_type": "execute_result"
    }
   ],
   "source": [
    "\"question 1\" \n",
    "\n",
    "nums = list(map(int,input(\"enter numbers\").split())) \n",
    "\n",
    "min(nums)\n",
    "\n"
   ]
  },
  {
   "cell_type": "code",
   "execution_count": 16,
   "id": "f2dc5099",
   "metadata": {},
   "outputs": [
    {
     "name": "stdout",
     "output_type": "stream",
     "text": [
      "enter string 1sarthak\n",
      "enter string 2sar\n",
      "True\n"
     ]
    }
   ],
   "source": [
    "string1 = input(\"enter string 1\") \n",
    "\n",
    "string2 = input(\"enter string 2\") \n",
    "\n",
    "if string2 in string1:\n",
    "    print(True) \n",
    "else:\n",
    "    print(False)"
   ]
  },
  {
   "cell_type": "code",
   "execution_count": 19,
   "id": "c4e4a903",
   "metadata": {},
   "outputs": [
    {
     "name": "stdout",
     "output_type": "stream",
     "text": [
      "enter chrt\n",
      "False\n"
     ]
    }
   ],
   "source": [
    "vov = [\"a\",\"e\",\"i\",\"o\",\"u\",\"A\",\"E\",\"I\",\"O\",\"U\"] \n",
    "\n",
    "ch = input(\"enter chr\") \n",
    "\n",
    "if ch in vov:\n",
    "    print(True) \n",
    "else:\n",
    "    print(False)"
   ]
  },
  {
   "cell_type": "code",
   "execution_count": 6,
   "id": "61f3e900",
   "metadata": {},
   "outputs": [
    {
     "name": "stdout",
     "output_type": "stream",
     "text": [
      "press 1 to see date\n",
      "press 2 to create folder\n",
      "press 3 to see all the folders\n",
      "press 4 to send msg throught wattsapp\n",
      "enter choice 4\n",
      "enter msgf\n"
     ]
    }
   ],
   "source": [
    "from datetime import date \n",
    "import os  \n",
    "import pywhatkit\n",
    "import pyautogui\n",
    "import time\n",
    "import cv2 \n",
    "from pynput.keyboard import Key, Controller\n",
    "\n",
    "\n",
    "keyboard = Controller()\n",
    "\n",
    "print(\"press 1 to see date\") \n",
    "print(\"press 2 to create folder\") \n",
    "print(\"press 3 to see all the folders\")\n",
    "print(\"press 4 to send msg throught wattsapp\")\n",
    "\n",
    "choice = int(input(\"enter choice \"))\n",
    "\n",
    "def operation(choice):\n",
    "    \n",
    "    if choice == 1:\n",
    "        return date.today()  \n",
    "    \n",
    "    if choice == 2:\n",
    "        directory = input(\"enter folder name\")\n",
    "        parent_dir = r\"C:\\Users\\Sarthak Singh\\OneDrive\\Documents\\coding prog\" \n",
    "        path = os.path.join(parent_dir,directory)\n",
    "        \n",
    "        return os.mkdir(path) \n",
    "    \n",
    "    if choice == 3:\n",
    "        parent_dir = r\"C:\\Users\\Sarthak Singh\\OneDrive\\Documents\\coding prog\" \n",
    "        return os.listdir(parent_dir)\n",
    "    \n",
    "    if choice == 4:\n",
    "      \n",
    "        pywhatkit.sendwhatmsg_instantly(\n",
    "            phone_no = \"<+918112215866>\",\n",
    "            message= input(\"enter msg\")\n",
    "         \n",
    "        )\n",
    "        pyautogui.click() \n",
    "        keyboard.press(Key.enter) \n",
    "        keyboard.release(Key.enter)\n",
    "        \n",
    "    if choice == 5:\n",
    "        \n",
    "    \n",
    "operation(choice)\n",
    "        "
   ]
  },
  {
   "cell_type": "markdown",
   "id": "4aa5e603",
   "metadata": {},
   "source": [
    "# day 3\n"
   ]
  },
  {
   "cell_type": "code",
   "execution_count": 11,
   "id": "2b708c79",
   "metadata": {},
   "outputs": [
    {
     "name": "stdout",
     "output_type": "stream",
     "text": [
      "enter number1 2 3 4 5 \n"
     ]
    },
    {
     "data": {
      "text/plain": [
       "[1, 2, 3, 4, 5]"
      ]
     },
     "execution_count": 11,
     "metadata": {},
     "output_type": "execute_result"
    }
   ],
   "source": [
    "lis = list(map(int,input(\"enter number\").split()))\n",
    "lis\n"
   ]
  },
  {
   "cell_type": "code",
   "execution_count": 20,
   "id": "e57b65ae",
   "metadata": {},
   "outputs": [
    {
     "name": "stdout",
     "output_type": "stream",
     "text": [
      "enter numbers1 2 3\n"
     ]
    },
    {
     "data": {
      "text/plain": [
       "6"
      ]
     },
     "execution_count": 20,
     "metadata": {},
     "output_type": "execute_result"
    }
   ],
   "source": [
    "#ques 1\n",
    "\n",
    "nums = list(map(int,input(\"enter numbers\").split())) \n",
    "sum(nums)"
   ]
  },
  {
   "cell_type": "code",
   "execution_count": 21,
   "id": "c26ed4ad",
   "metadata": {},
   "outputs": [
    {
     "name": "stdout",
     "output_type": "stream",
     "text": [
      "enter sentencethis is our class\n"
     ]
    },
    {
     "data": {
      "text/plain": [
       "4"
      ]
     },
     "execution_count": 21,
     "metadata": {},
     "output_type": "execute_result"
    }
   ],
   "source": [
    "#ques 2 \n",
    "\n",
    "sentence = input(\"enter sentence\")  \n",
    "\n",
    "sentence = sentence.split() \n",
    "\n",
    "len(sentence)"
   ]
  },
  {
   "cell_type": "code",
   "execution_count": 23,
   "id": "06b279bb",
   "metadata": {},
   "outputs": [
    {
     "name": "stdout",
     "output_type": "stream",
     "text": [
      "enter numbers134 56 78 1\n",
      "1\n",
      "134\n"
     ]
    }
   ],
   "source": [
    "# ques 3 \n",
    "\n",
    "nums = list(map(int,input(\"enter numbers\").split())) \n",
    "\n",
    "print(min(nums)) \n",
    "print(max(nums))\n",
    "\n"
   ]
  },
  {
   "cell_type": "code",
   "execution_count": 26,
   "id": "1cf6e41f",
   "metadata": {},
   "outputs": [
    {
     "name": "stdout",
     "output_type": "stream",
     "text": [
      "[1, 9, 25, 49, 81, 121, 169, 225, 289, 361, 441, 529, 625, 729, 841, 961, 1089, 1225, 1369, 1521, 1681, 1849, 2025, 2209, 2401, 2601, 2809, 3025, 3249, 3481, 3721, 3969, 4225, 4489, 4761, 5041, 5329, 5625, 5929, 6241, 6561, 6889, 7225, 7569, 7921, 8281, 8649, 9025, 9409, 9801]\n",
      "[8, 64, 216, 512, 1000, 1728, 2744, 4096, 5832, 8000, 10648, 13824, 17576, 21952, 27000, 32768, 39304, 46656, 54872, 64000, 74088, 85184, 97336, 110592, 125000, 140608, 157464, 175616, 195112, 216000, 238328, 262144, 287496, 314432, 343000, 373248, 405224, 438976, 474552, 512000, 551368, 592704, 636056, 681472, 729000, 778688, 830584, 884736, 941192, 1000000]\n",
      "___________________________\n",
      "50\n",
      "50\n"
     ]
    }
   ],
   "source": [
    "# ques 4 \n",
    "\n",
    "nums = [i for i in range(1,101)] \n",
    "\n",
    "odds = [i*i for i in nums if i%2 != 0]  \n",
    "even = [i**3 for i in nums if i%2 == 0] \n",
    "\n",
    "print(odds) \n",
    "print(even)\n",
    "print(\"___________________________\")\n",
    "print(len(odds)) \n",
    "print(len(even))"
   ]
  },
  {
   "cell_type": "code",
   "execution_count": 27,
   "id": "0d914c62",
   "metadata": {},
   "outputs": [
    {
     "name": "stdout",
     "output_type": "stream",
     "text": [
      "enter sentencemy name is sarthak \n",
      "enter sentencemy friend name is hemant\n",
      "enter sentencemy other friend name is om\n",
      "enter sentencei live in jaipur\n",
      "enter sentencei love python\n"
     ]
    }
   ],
   "source": [
    "sentences =  [input(\"enter sentence\") for _ in range(5)]"
   ]
  },
  {
   "cell_type": "code",
   "execution_count": 31,
   "id": "fb1e50e0",
   "metadata": {},
   "outputs": [
    {
     "name": "stdout",
     "output_type": "stream",
     "text": [
      "enter word to be searchedsarthak\n",
      "true\n",
      "false\n",
      "false\n",
      "false\n",
      "false\n"
     ]
    }
   ],
   "source": [
    "words = input(\"enter word to be searched\") \n",
    "\n",
    "for i in sentences:\n",
    "    if words in i:\n",
    "        print(\"true\") \n",
    "    else:\n",
    "        print(\"false\")"
   ]
  },
  {
   "cell_type": "code",
   "execution_count": null,
   "id": "8cc96a74",
   "metadata": {},
   "outputs": [],
   "source": [
    "#homework \n",
    "\n",
    "# take list make new list of prime numbers \n",
    "# take list make new (list [0] == [-1]) \n",
    "# listcomp (perfect square) \n",
    "# palindrom nums from list \n",
    "# reverse words \n",
    "\n"
   ]
  },
  {
   "cell_type": "code",
   "execution_count": 5,
   "id": "c3ab1b88",
   "metadata": {},
   "outputs": [
    {
     "name": "stdout",
     "output_type": "stream",
     "text": [
      "enter range100\n"
     ]
    },
    {
     "data": {
      "text/plain": [
       "[2,\n",
       " 3,\n",
       " 5,\n",
       " 7,\n",
       " 11,\n",
       " 13,\n",
       " 17,\n",
       " 19,\n",
       " 23,\n",
       " 29,\n",
       " 31,\n",
       " 37,\n",
       " 41,\n",
       " 43,\n",
       " 47,\n",
       " 53,\n",
       " 59,\n",
       " 61,\n",
       " 67,\n",
       " 71,\n",
       " 73,\n",
       " 79,\n",
       " 83,\n",
       " 89,\n",
       " 97,\n",
       " 100]"
      ]
     },
     "execution_count": 5,
     "metadata": {},
     "output_type": "execute_result"
    }
   ],
   "source": [
    "n = int(input(\"enter range\"))\n",
    "\n",
    "prime = [True for i in range(n+1)] \n",
    "\n",
    "prime[0] = False \n",
    "prime[1] = False \n",
    "\n",
    "i = 2 \n",
    "while(i<=n):\n",
    "    \n",
    "    if prime[i] == True:\n",
    "        for j in range(i*i,n,i):\n",
    "            prime[j] = False \n",
    "            \n",
    "    i = i+1 \n",
    "    \n",
    "prime_no = [i for i in range(len(prime)) if prime[i] == True] \n",
    "\n",
    "prime_no\n",
    "\n"
   ]
  },
  {
   "cell_type": "code",
   "execution_count": 12,
   "id": "fb60ba11",
   "metadata": {},
   "outputs": [
    {
     "name": "stdout",
     "output_type": "stream",
     "text": [
      "enter wordsamarica china ohio delhi\n"
     ]
    },
    {
     "data": {
      "text/plain": [
       "['amarica', 'ohio']"
      ]
     },
     "execution_count": 12,
     "metadata": {},
     "output_type": "execute_result"
    }
   ],
   "source": [
    "words = input(\"enter words\").split() \n",
    "\n",
    "ans = [i for i in words if i[0] == i[-1]] \n",
    "\n",
    "ans\n",
    "\n"
   ]
  },
  {
   "cell_type": "code",
   "execution_count": 15,
   "id": "be344855",
   "metadata": {},
   "outputs": [
    {
     "name": "stdout",
     "output_type": "stream",
     "text": [
      "enter the range100\n"
     ]
    },
    {
     "data": {
      "text/plain": [
       "[0, 1, 4, 9, 16, 25, 36, 49, 64, 81, 100]"
      ]
     },
     "execution_count": 15,
     "metadata": {},
     "output_type": "execute_result"
    }
   ],
   "source": [
    "import math\n",
    "\n",
    "n = int(input(\"enter the range\")) \n",
    "\n",
    "nums = [i for i in range(n+1) if math.sqrt(i) == int(math.sqrt(i))]\n",
    "\n",
    "nums"
   ]
  },
  {
   "cell_type": "code",
   "execution_count": 16,
   "id": "68efe900",
   "metadata": {},
   "outputs": [
    {
     "name": "stdout",
     "output_type": "stream",
     "text": [
      "enter wordscar civic level arm hole rotor mad mind kayak\n"
     ]
    },
    {
     "data": {
      "text/plain": [
       "['civic', 'level', 'rotor', 'kayak']"
      ]
     },
     "execution_count": 16,
     "metadata": {},
     "output_type": "execute_result"
    }
   ],
   "source": [
    "words = input(\"enter words\").split() \n",
    "\n",
    "ans = [i for i in words if i == i[::-1]] \n",
    "\n",
    "ans"
   ]
  },
  {
   "cell_type": "code",
   "execution_count": 17,
   "id": "4eb4fe9a",
   "metadata": {},
   "outputs": [
    {
     "name": "stdout",
     "output_type": "stream",
     "text": [
      "enter wordsamarica india rajasthan iran peru java indonesia china\n"
     ]
    },
    {
     "data": {
      "text/plain": [
       "['acirama', 'aidni', 'nahtsajar', 'nari', 'urep', 'avaj', 'aisenodni', 'anihc']"
      ]
     },
     "execution_count": 17,
     "metadata": {},
     "output_type": "execute_result"
    }
   ],
   "source": [
    "words = input(\"enter words\").split() \n",
    "\n",
    "words[:] = [i[::-1] for i in words] \n",
    "\n",
    "words"
   ]
  },
  {
   "cell_type": "markdown",
   "id": "772857f9",
   "metadata": {},
   "source": [
    "# DAY 4\n"
   ]
  },
  {
   "cell_type": "code",
   "execution_count": 4,
   "id": "f184b680",
   "metadata": {},
   "outputs": [
    {
     "data": {
      "text/plain": [
       "2550"
      ]
     },
     "execution_count": 4,
     "metadata": {},
     "output_type": "execute_result"
    }
   ],
   "source": [
    "sum([i for i in range(1,101) if i%2 == 0])\n",
    "            \n",
    "\n"
   ]
  },
  {
   "cell_type": "code",
   "execution_count": 10,
   "id": "1b05aeb3",
   "metadata": {},
   "outputs": [
    {
     "data": {
      "text/plain": [
       "3628800"
      ]
     },
     "execution_count": 10,
     "metadata": {},
     "output_type": "execute_result"
    }
   ],
   "source": [
    "mul = 1\n",
    "\n",
    "for i in range(1,11):\n",
    "    mul = mul*i \n",
    "    \n",
    "mul"
   ]
  },
  {
   "cell_type": "code",
   "execution_count": 1,
   "id": "c1deceda",
   "metadata": {},
   "outputs": [
    {
     "data": {
      "text/plain": [
       "120"
      ]
     },
     "execution_count": 1,
     "metadata": {},
     "output_type": "execute_result"
    }
   ],
   "source": [
    "ans = 1\n",
    "def factorial(num,ans):\n",
    "    if num == 1:\n",
    "        return ans\n",
    "    else:\n",
    "        ans = ans*num\n",
    "        return factorial(num-1,ans) \n",
    "    \n",
    "factorial(5,ans)"
   ]
  },
  {
   "cell_type": "code",
   "execution_count": 8,
   "id": "83092edc",
   "metadata": {},
   "outputs": [
    {
     "name": "stdout",
     "output_type": "stream",
     "text": [
      "enter stringmy name is sarthak\n"
     ]
    },
    {
     "data": {
      "text/plain": [
       "3"
      ]
     },
     "execution_count": 8,
     "metadata": {},
     "output_type": "execute_result"
    }
   ],
   "source": [
    "string = input(\"enter string\") \n",
    "\n",
    "ans = set()\n",
    "\n",
    "for i in string:\n",
    "    if i in [\"a\",\"e\",\"i\",\"o\",\"u\",\"A\",\"E\",\"I\",\"O\",\"U\"]:\n",
    "        ans.add(i) \n",
    "        \n",
    "count = 0 \n",
    "for i in (list(ans)):\n",
    "    count = count+1 \n",
    "    \n",
    "count\n",
    "        "
   ]
  },
  {
   "cell_type": "code",
   "execution_count": 5,
   "id": "56fefe60",
   "metadata": {},
   "outputs": [
    {
     "name": "stdout",
     "output_type": "stream",
     "text": [
      "enter numbers1 5 7 3 9 5\n"
     ]
    },
    {
     "data": {
      "text/plain": [
       "5.0"
      ]
     },
     "execution_count": 5,
     "metadata": {},
     "output_type": "execute_result"
    }
   ],
   "source": [
    "nums = list(map(int,input(\"enter numbers\").split())) \n",
    "\n",
    "sum(nums)/len(nums)"
   ]
  },
  {
   "cell_type": "code",
   "execution_count": 6,
   "id": "8d95549a",
   "metadata": {},
   "outputs": [
    {
     "name": "stdout",
     "output_type": "stream",
     "text": [
      "enter numbers5\n"
     ]
    },
    {
     "data": {
      "text/plain": [
       "[5, 10, 15, 20, 25, 30, 35, 40, 45, 50]"
      ]
     },
     "execution_count": 6,
     "metadata": {},
     "output_type": "execute_result"
    }
   ],
   "source": [
    "n = int(input(\"enter numbers\")) \n",
    "\n",
    "table = [n*i for i in range(1,11)] \n",
    "\n",
    "table"
   ]
  },
  {
   "cell_type": "code",
   "execution_count": null,
   "id": "45b35ce7",
   "metadata": {},
   "outputs": [],
   "source": [
    "\"\"\"\n",
    "* \n",
    "** \n",
    "***\n",
    "****\n",
    "\n",
    "\n",
    "\"\"\""
   ]
  },
  {
   "cell_type": "code",
   "execution_count": 3,
   "id": "cd8e160d",
   "metadata": {},
   "outputs": [
    {
     "name": "stdout",
     "output_type": "stream",
     "text": [
      "\n",
      "\n",
      "* \n",
      "\n",
      "* * \n",
      "\n",
      "* * * \n",
      "\n",
      "* * * * \n",
      "\n",
      "* * * * * \n",
      "\n",
      "* * * * * * \n",
      "\n",
      "* * * * * * * \n",
      "\n",
      "* * * * * * * * \n",
      "\n",
      "* * * * * * * * * \n",
      "\n"
     ]
    }
   ],
   "source": [
    "for i in range(10):\n",
    "    for j in range(0,i):\n",
    "        print(\"*\",end = \" \")\n",
    "    print(\"\\n\")"
   ]
  },
  {
   "cell_type": "code",
   "execution_count": 5,
   "id": "0e5b755d",
   "metadata": {},
   "outputs": [
    {
     "name": "stdout",
     "output_type": "stream",
     "text": [
      "enter input  -> @\n"
     ]
    },
    {
     "data": {
      "text/plain": [
       "64"
      ]
     },
     "execution_count": 5,
     "metadata": {},
     "output_type": "execute_result"
    }
   ],
   "source": [
    "n = input(\"enter input  -> \") \n",
    "\n",
    "ord(n)"
   ]
  },
  {
   "cell_type": "code",
   "execution_count": 8,
   "id": "2f8a61ca",
   "metadata": {},
   "outputs": [
    {
     "name": "stdout",
     "output_type": "stream",
     "text": [
      "enter the numbers ->  121 23 45 676 1221 1001 456 78\n"
     ]
    },
    {
     "data": {
      "text/plain": [
       "[4, 19, 6, 2]"
      ]
     },
     "execution_count": 8,
     "metadata": {},
     "output_type": "execute_result"
    }
   ],
   "source": [
    "lis = list(map(int,input(\"enter the numbers ->  \").split())) \n",
    "\n",
    "palindromes = [i for i in lis if str(i) == str(i)[::-1]] \n",
    "\n",
    "total = [] \n",
    "\n",
    "for i in palindromes:\n",
    "    count = 0\n",
    "    for j in str(i):\n",
    "        count = count+int(j) \n",
    "        \n",
    "    total.append(count) \n",
    "    \n",
    "total\n"
   ]
  },
  {
   "cell_type": "code",
   "execution_count": 4,
   "id": "a6fe51f1",
   "metadata": {},
   "outputs": [
    {
     "name": "stdout",
     "output_type": "stream",
     "text": [
      "enter order -> pizza\n",
      "200\n"
     ]
    }
   ],
   "source": [
    "menu = {\"pizza\":200,\"burger\":60,\"cold coffee\":23} \n",
    "\n",
    "order = input(\"enter order -> \") \n",
    "\n",
    "for i in menu:\n",
    "    if i in menu:\n",
    "        print(menu[i]) \n",
    "        break\n",
    "    if i not in menu:\n",
    "        print(\"select from valid menu\")"
   ]
  },
  {
   "cell_type": "code",
   "execution_count": 9,
   "id": "27e3cd5b",
   "metadata": {},
   "outputs": [
    {
     "data": {
      "text/plain": [
       "(1, 'subham', 'rahul', 98.45)"
      ]
     },
     "execution_count": 9,
     "metadata": {},
     "output_type": "execute_result"
    }
   ],
   "source": [
    "lis = (1,\"sam\",\"rahul\",98.45)\n",
    "\n",
    "\n",
    "lis = list(lis)\n",
    "lis[1] = \"subham\"   \n",
    "\n",
    "lis = tuple(lis)\n",
    "\n",
    "lis\n",
    "\n",
    "\n"
   ]
  },
  {
   "cell_type": "code",
   "execution_count": 10,
   "id": "510d6a0c",
   "metadata": {},
   "outputs": [
    {
     "data": {
      "text/plain": [
       "(1, 2, 3, 4, 5, 6)"
      ]
     },
     "execution_count": 10,
     "metadata": {},
     "output_type": "execute_result"
    }
   ],
   "source": [
    "a = (1,2,3) \n",
    "b = (4,5,6) \n",
    "\n",
    "a+b\n"
   ]
  },
  {
   "cell_type": "markdown",
   "id": "dfb4cdd5",
   "metadata": {},
   "source": [
    "# HOMEWORK\n"
   ]
  },
  {
   "cell_type": "code",
   "execution_count": 1,
   "id": "cc871f6d",
   "metadata": {},
   "outputs": [
    {
     "name": "stdout",
     "output_type": "stream",
     "text": [
      "enter  the numbers1 2 3\n",
      "enter the numbers4 5 6\n"
     ]
    },
    {
     "data": {
      "text/plain": [
       "(1, 4, 2, 5, 3, 6)"
      ]
     },
     "execution_count": 1,
     "metadata": {},
     "output_type": "execute_result"
    }
   ],
   "source": [
    "#question 1\n",
    "\n",
    "tup1 = tuple(map(int,input(\"enter  the numbers\").split())) \n",
    "tup2 = tuple(map(int,input(\"enter the numbers\").split()))\n",
    "\n",
    "def alternate(tup1,tup2):\n",
    "    lis = []\n",
    "    for i in range(len(tup1)):\n",
    "        lis.append(tup1[i]) \n",
    "        lis.append(tup2[i]) \n",
    "        \n",
    "    return tuple(lis)  \n",
    "\n",
    "alternate(tup1,tup2)\n"
   ]
  },
  {
   "cell_type": "code",
   "execution_count": 6,
   "id": "10a51dd8",
   "metadata": {},
   "outputs": [
    {
     "name": "stdout",
     "output_type": "stream",
     "text": [
      "enter the number of student3\n",
      "enter the name of studentsarthak\n",
      "enter the math marks89\n",
      "enter the science marks78\n",
      "enter the hindi marks67\n",
      "enter the name of studenthemant\n",
      "enter the math marks90\n",
      "enter the science marks89\n",
      "enter the hindi marks78\n",
      "enter the name of studentsahil\n",
      "enter the math marks90\n",
      "enter the science marks12\n",
      "enter the hindi marks10\n"
     ]
    },
    {
     "data": {
      "text/plain": [
       "[('hemant', 90, 89, 78)]"
      ]
     },
     "execution_count": 6,
     "metadata": {},
     "output_type": "execute_result"
    }
   ],
   "source": [
    "#question 2\n",
    "\n",
    "n = int(input(\"enter the number of student\")) \n",
    "\n",
    "stu_data = []\n",
    "\n",
    "for i in range(n):\n",
    "    lis = [None]*4 \n",
    "    for i in range(len(lis)):\n",
    "        if i == 0:\n",
    "            lis[0] = input(\"enter the name of student\") \n",
    "        else:\n",
    "            if i == 1:\n",
    "                lis[1] = int(input(\"enter the math marks\")) \n",
    "            if i == 2:\n",
    "                lis[2] = int(input(\"enter the science marks\")) \n",
    "            if i == 3:\n",
    "                lis[3] = int(input(\"enter the hindi marks\")) \n",
    "                \n",
    "    stu_data.append(tuple(lis)) \n",
    "    \n",
    "    \n",
    "first_divison = [] \n",
    "\n",
    "def avg_marks(lis):\n",
    "    \n",
    "    avg = sum(lis[1:4])//3 \n",
    "    if avg > 80:\n",
    "        first_divison.append(lis) \n",
    "        \n",
    "for i in stu_data:\n",
    "    avg_marks(i) \n",
    "    \n",
    "first_divison\n",
    "        "
   ]
  },
  {
   "cell_type": "code",
   "execution_count": 7,
   "id": "b92dd2ce",
   "metadata": {},
   "outputs": [
    {
     "name": "stdout",
     "output_type": "stream",
     "text": [
      "enter wordssarthak nikit hemant arpit mandeep sahil\n"
     ]
    },
    {
     "data": {
      "text/plain": [
       "{'sarthak': 7, 'nikit': 5, 'hemant': 6, 'arpit': 5, 'mandeep': 7, 'sahil': 5}"
      ]
     },
     "execution_count": 7,
     "metadata": {},
     "output_type": "execute_result"
    }
   ],
   "source": [
    "#question 3\n",
    "\n",
    "words = input(\"enter words\").split() \n",
    "\n",
    "def len_cal(lis):\n",
    "    return {i:len(i) for i in lis} \n",
    "\n",
    "len_cal(words)"
   ]
  },
  {
   "cell_type": "code",
   "execution_count": 8,
   "id": "7d321859",
   "metadata": {},
   "outputs": [
    {
     "name": "stdout",
     "output_type": "stream",
     "text": [
      "enter wordssarthak cat cat arpit nikit apple apple apple\n"
     ]
    },
    {
     "data": {
      "text/plain": [
       "{'sarthak': 1, 'cat': 2, 'arpit': 1, 'nikit': 1, 'apple': 3}"
      ]
     },
     "execution_count": 8,
     "metadata": {},
     "output_type": "execute_result"
    }
   ],
   "source": [
    "#question 10\n",
    "\n",
    "words = input(\"enter words\").split() \n",
    "\n",
    "def occurence(words):\n",
    "    \n",
    "    return {i:words.count(i) for i in words} \n",
    "\n",
    "occurence(words)\n",
    "\n"
   ]
  },
  {
   "cell_type": "code",
   "execution_count": 9,
   "id": "7762b700",
   "metadata": {},
   "outputs": [
    {
     "name": "stdout",
     "output_type": "stream",
     "text": [
      "enter the numbers12 3 45 7 900\n"
     ]
    },
    {
     "data": {
      "text/plain": [
       "(3, 900)"
      ]
     },
     "execution_count": 9,
     "metadata": {},
     "output_type": "execute_result"
    }
   ],
   "source": [
    "#question 9 \n",
    "\n",
    "nums = list(map(int,input(\"enter the numbers\").split())) \n",
    "\n",
    "def minmax(nums):\n",
    "    return (min(nums),max(nums)) \n",
    "\n",
    "minmax(nums)"
   ]
  },
  {
   "cell_type": "code",
   "execution_count": 10,
   "id": "6c380e88",
   "metadata": {},
   "outputs": [
    {
     "name": "stdout",
     "output_type": "stream",
     "text": [
      "enter number of items4\n",
      "enter name of itemtv\n",
      "enter cost2000\n",
      "enter name of itemcar\n",
      "enter cost5000\n",
      "enter name of itemhat\n",
      "enter cost5\n",
      "enter name of itemhouse\n",
      "enter cost40000\n"
     ]
    },
    {
     "data": {
      "text/plain": [
       "47005"
      ]
     },
     "execution_count": 10,
     "metadata": {},
     "output_type": "execute_result"
    }
   ],
   "source": [
    "# question 8  \n",
    "\n",
    "n = int(input(\"enter number of items\"))\n",
    "\n",
    "items = [(input(\"enter name of item\"),int(input(\"enter cost\"))) for _ in range(n)] \n",
    "\n",
    "def total_cost(items):\n",
    "    total = 0 \n",
    "    for i in items:\n",
    "        total = total+i[1] \n",
    "    return total \n",
    "\n",
    "total_cost(items)"
   ]
  },
  {
   "cell_type": "code",
   "execution_count": 11,
   "id": "ba48e894",
   "metadata": {},
   "outputs": [
    {
     "name": "stdout",
     "output_type": "stream",
     "text": [
      "enter the number of student3\n",
      "enter the name of studentsarthak\n",
      "enter the math marks75\n",
      "enter the science marks89\n",
      "enter the hindi marks80\n",
      "enter the name of studenthemant\n",
      "enter the math marks67\n",
      "enter the science marks78\n",
      "enter the hindi marks89\n",
      "enter the name of studentsahil\n",
      "enter the math marks67\n",
      "enter the science marks55\n",
      "enter the hindi marks78\n"
     ]
    },
    {
     "data": {
      "text/plain": [
       "[('sarthak', 81), ('hemant', 78), ('sahil', 66)]"
      ]
     },
     "execution_count": 11,
     "metadata": {},
     "output_type": "execute_result"
    }
   ],
   "source": [
    "# question 7\n",
    "\n",
    "n = int(input(\"enter the number of student\")) \n",
    "\n",
    "stu_data = []\n",
    "\n",
    "for i in range(n):\n",
    "    lis = [None]*4 \n",
    "    for i in range(len(lis)):\n",
    "        if i == 0:\n",
    "            lis[0] = input(\"enter the name of student\") \n",
    "        else:\n",
    "            if i == 1:\n",
    "                lis[1] = int(input(\"enter the math marks\")) \n",
    "            if i == 2:\n",
    "                lis[2] = int(input(\"enter the science marks\")) \n",
    "            if i == 3:\n",
    "                lis[3] = int(input(\"enter the hindi marks\")) \n",
    "                \n",
    "    stu_data.append(tuple(lis)) \n",
    "    \n",
    "avg = []\n",
    "    \n",
    "def avg_marks(lis):\n",
    "    avg.append((lis[0],sum(lis[1:4])//3)) \n",
    "    \n",
    "for i in stu_data:\n",
    "    avg_marks(i) \n",
    "    \n",
    "avg\n",
    "        "
   ]
  },
  {
   "cell_type": "code",
   "execution_count": 1,
   "id": "9598be07",
   "metadata": {},
   "outputs": [
    {
     "name": "stdout",
     "output_type": "stream",
     "text": [
      "enter number5\n",
      "5 X 1 = 5\n",
      "5 X 2 = 10\n",
      "5 X 3 = 15\n",
      "5 X 4 = 20\n",
      "5 X 5 = 25\n",
      "5 X 6 = 30\n",
      "5 X 7 = 35\n",
      "5 X 8 = 40\n",
      "5 X 9 = 45\n",
      "5 X 10 = 50\n"
     ]
    }
   ],
   "source": [
    "n  = int(input(\"enter number\")) \n",
    "\n",
    "for i in range(1,10+1):\n",
    "    \n",
    "    print(f\"{n} X {i} = {n*i}\")"
   ]
  },
  {
   "cell_type": "code",
   "execution_count": 4,
   "id": "fbd299fa",
   "metadata": {},
   "outputs": [
    {
     "name": "stdout",
     "output_type": "stream",
     "text": [
      "enter range100\n"
     ]
    },
    {
     "data": {
      "text/plain": [
       "[1,\n",
       " 2,\n",
       " 3,\n",
       " 4,\n",
       " 5,\n",
       " 6,\n",
       " 7,\n",
       " 8,\n",
       " 9,\n",
       " 10,\n",
       " 11,\n",
       " 12,\n",
       " 13,\n",
       " 14,\n",
       " 15,\n",
       " 16,\n",
       " 17,\n",
       " 18,\n",
       " 19,\n",
       " 20,\n",
       " 21,\n",
       " 22,\n",
       " 23,\n",
       " 24,\n",
       " 25,\n",
       " 26,\n",
       " 27,\n",
       " 28,\n",
       " 29,\n",
       " 30,\n",
       " 31,\n",
       " 32,\n",
       " 33,\n",
       " 34,\n",
       " 35,\n",
       " 36,\n",
       " 37,\n",
       " 38,\n",
       " 39,\n",
       " 40,\n",
       " 41,\n",
       " 42,\n",
       " 43,\n",
       " 44,\n",
       " 45,\n",
       " 46,\n",
       " 47,\n",
       " 48,\n",
       " 49,\n",
       " 50]"
      ]
     },
     "execution_count": 4,
     "metadata": {},
     "output_type": "execute_result"
    }
   ],
   "source": [
    "n = int(input('enter range')) \n",
    "\n",
    "nums = [i for i in range(1,n//2+1)] \n",
    "\n",
    "nums"
   ]
  },
  {
   "cell_type": "code",
   "execution_count": 5,
   "id": "83980c45",
   "metadata": {},
   "outputs": [
    {
     "name": "stdout",
     "output_type": "stream",
     "text": [
      "enter range100\n",
      "1\n",
      "2\n",
      "3\n",
      "4\n",
      "5\n",
      "6\n",
      "7\n",
      "8\n",
      "9\n",
      "10\n",
      "11\n",
      "12\n",
      "13\n",
      "14\n",
      "15\n",
      "16\n",
      "17\n",
      "18\n",
      "19\n",
      "20\n",
      "21\n",
      "22\n",
      "23\n",
      "24\n",
      "25\n",
      "26\n",
      "27\n",
      "28\n",
      "29\n",
      "30\n",
      "31\n",
      "32\n",
      "33\n",
      "34\n",
      "35\n",
      "36\n",
      "37\n",
      "38\n",
      "39\n",
      "40\n",
      "41\n",
      "42\n",
      "43\n",
      "44\n",
      "45\n",
      "46\n",
      "47\n",
      "48\n",
      "49\n",
      "50\n"
     ]
    }
   ],
   "source": [
    "n = int(input(\"enter range\")) \n",
    "\n",
    "for i in range(1,n+1):\n",
    "    if i  > n//2:\n",
    "        break \n",
    "    else:\n",
    "        print(i)"
   ]
  },
  {
   "cell_type": "code",
   "execution_count": 6,
   "id": "e4becb13",
   "metadata": {},
   "outputs": [
    {
     "name": "stdout",
     "output_type": "stream",
     "text": [
      "enter number537\n"
     ]
    },
    {
     "data": {
      "text/plain": [
       "15"
      ]
     },
     "execution_count": 6,
     "metadata": {},
     "output_type": "execute_result"
    }
   ],
   "source": [
    "num = int(input(\"enter number\")) \n",
    "\n",
    "total = 0 \n",
    "\n",
    "for i in str(num):\n",
    "    total = total+int(i) \n",
    "    \n",
    "total"
   ]
  },
  {
   "cell_type": "code",
   "execution_count": 7,
   "id": "5d1495cc",
   "metadata": {},
   "outputs": [
    {
     "name": "stdout",
     "output_type": "stream",
     "text": [
      "enter number5\n"
     ]
    },
    {
     "data": {
      "text/plain": [
       "True"
      ]
     },
     "execution_count": 7,
     "metadata": {},
     "output_type": "execute_result"
    }
   ],
   "source": [
    "num = int(input('enter number')) \n",
    "\n",
    "\n",
    "def checkprime(num):\n",
    "    \n",
    "    if num<2:\n",
    "        return False \n",
    "    else:\n",
    "        flag = 0\n",
    "        for i in range(2,int(num**0.5+1)):\n",
    "            if num%i == 0:\n",
    "                flag = 1 \n",
    "                break \n",
    "                \n",
    "        if flag == 0:\n",
    "            return True \n",
    "        else:\n",
    "            return False \n",
    "        \n",
    "checkprime(num)"
   ]
  },
  {
   "cell_type": "code",
   "execution_count": 14,
   "id": "245a50bf",
   "metadata": {},
   "outputs": [
    {
     "name": "stdout",
     "output_type": "stream",
     "text": [
      "A\n",
      "B\n",
      "C\n",
      "D\n",
      "E\n",
      "F\n",
      "G\n",
      "H\n",
      "I\n",
      "J\n",
      "K\n",
      "L\n",
      "M\n",
      "N\n",
      "O\n",
      "P\n",
      "Q\n",
      "R\n",
      "S\n",
      "T\n",
      "U\n",
      "V\n",
      "W\n",
      "X\n",
      "Y\n",
      "Z\n"
     ]
    }
   ],
   "source": [
    "for i in range(65,91):\n",
    "    print(chr(i))"
   ]
  },
  {
   "cell_type": "code",
   "execution_count": 18,
   "id": "ea784902",
   "metadata": {},
   "outputs": [
    {
     "data": {
      "text/plain": [
       "{'5': 1, '4': 2, '3': 1, '2': 2, '1': 1, '8': 1}"
      ]
     },
     "execution_count": 18,
     "metadata": {},
     "output_type": "execute_result"
    }
   ],
   "source": [
    "num = 54324182 \n",
    "dic = {} \n",
    "\n",
    "for i in str(num):\n",
    "    if i  not in dic:\n",
    "        dic[i] = 1 \n",
    "    else:\n",
    "        dic[i] = dic[i]+1 \n",
    "        \n",
    "\n",
    "\n"
   ]
  },
  {
   "cell_type": "code",
   "execution_count": 1,
   "id": "87b27d77",
   "metadata": {},
   "outputs": [
    {
     "name": "stdout",
     "output_type": "stream",
     "text": [
      "M\n",
      "o\n",
      "h\n",
      "i\n",
      "t\n"
     ]
    }
   ],
   "source": [
    "s = \"Mohit\" \n",
    "\n",
    "for i in range(len(s)):\n",
    "    print(s[i])"
   ]
  },
  {
   "cell_type": "code",
   "execution_count": 6,
   "id": "86eefb3f",
   "metadata": {},
   "outputs": [
    {
     "name": "stdout",
     "output_type": "stream",
     "text": [
      "M\n",
      "h\n",
      "t\n"
     ]
    }
   ],
   "source": [
    "for i in range(len(s)):\n",
    "    if(i%2 == 0):\n",
    "        print(s[i])"
   ]
  },
  {
   "cell_type": "code",
   "execution_count": 8,
   "id": "f505935b",
   "metadata": {},
   "outputs": [
    {
     "data": {
      "text/plain": [
       "2"
      ]
     },
     "execution_count": 8,
     "metadata": {},
     "output_type": "execute_result"
    }
   ],
   "source": [
    "s = 'mohit' \n",
    "vov = \"AEIOUaeiou\" \n",
    "\n",
    "count = 0 \n",
    "\n",
    "for i in s:\n",
    "    if i in vov:\n",
    "        count = count+1 \n",
    "        \n",
    "count\n",
    "\n"
   ]
  },
  {
   "cell_type": "code",
   "execution_count": 2,
   "id": "7501cf40",
   "metadata": {},
   "outputs": [
    {
     "name": "stdout",
     "output_type": "stream",
     "text": [
      "2\n"
     ]
    }
   ],
   "source": [
    "s = \"moheeoi\" \n",
    "\n",
    "vov = \"AEIOUaeiou\" \n",
    "\n",
    "indx = [i for i in range(len(s)) if s[i] in vov] \n",
    "\n",
    "stack = [indx[0]] \n",
    "count = 0\n",
    "for i in range(1,len(indx)): \n",
    "    if indx[i] - stack[-1] == 1:\n",
    "        count = count+1 \n",
    "    if indx[i] - stack[-1] != 1:\n",
    "        stack.pop(-1)  \n",
    "        stack.append(indx[i]) \n",
    "        \n",
    "print(count)\n",
    "        \n",
    "\n",
    "    \n",
    "    "
   ]
  },
  {
   "cell_type": "code",
   "execution_count": null,
   "id": "45971256",
   "metadata": {},
   "outputs": [],
   "source": [
    "# password checker  \n",
    "# message bomber \n"
   ]
  },
  {
   "cell_type": "code",
   "execution_count": 4,
   "id": "4c5bc4bb",
   "metadata": {},
   "outputs": [
    {
     "name": "stdout",
     "output_type": "stream",
     "text": [
      "enter passwordA#234hkf\n",
      "weak password recreate password\n",
      "enter passwordA#gjtuig678\n"
     ]
    },
    {
     "data": {
      "text/plain": [
       "'A#gjtuig678'"
      ]
     },
     "execution_count": 4,
     "metadata": {},
     "output_type": "execute_result"
    }
   ],
   "source": [
    "\n",
    "def password():\n",
    "    \n",
    "    code = input(\"enter password\") \n",
    "    flag = 0 \n",
    "    \n",
    "    for i in code:\n",
    "        if ord(i) in range(65,91):\n",
    "            flag = flag+1 \n",
    "            break \n",
    "            \n",
    "    for i in code:\n",
    "        if ord(i) in range(32,48):\n",
    "            flag = flag+1 \n",
    "            break\n",
    "            \n",
    "    for i in code:\n",
    "        if ord(i) in range(48,58):\n",
    "            flag = flag+1\n",
    "            break\n",
    "            \n",
    "    if len(code)>=10:\n",
    "        flag = flag+1 \n",
    "   \n",
    "        \n",
    "    if flag == 4:\n",
    "        return code \n",
    "    else:\n",
    "        print(\"weak password recreate password\") \n",
    "        return password() \n",
    "    \n",
    "    \n",
    "password()\n",
    "        \n",
    "    \n",
    "    \n",
    "\n",
    "\n"
   ]
  },
  {
   "cell_type": "code",
   "execution_count": 4,
   "id": "d30e2e23",
   "metadata": {},
   "outputs": [
    {
     "ename": "SyntaxError",
     "evalue": "positional argument follows keyword argument (3426820734.py, line 9)",
     "output_type": "error",
     "traceback": [
      "\u001b[1;36m  Input \u001b[1;32mIn [4]\u001b[1;36m\u001b[0m\n\u001b[1;33m    )\u001b[0m\n\u001b[1;37m    ^\u001b[0m\n\u001b[1;31mSyntaxError\u001b[0m\u001b[1;31m:\u001b[0m positional argument follows keyword argument\n"
     ]
    }
   ],
   "source": [
    "import pywhatkit as pwk \n",
    "\n",
    "count = 0\n",
    "\n",
    "while(count<2):\n",
    "    pwk.sendwhatmsg_instantly(\n",
    "        phone_no = \"<+916367534025>\", \n",
    "        message = \"hi\",2,tab_close = True\n",
    "    )\n",
    "    count = count+1\n",
    "\n",
    "\n"
   ]
  },
  {
   "cell_type": "code",
   "execution_count": 14,
   "id": "c395157b",
   "metadata": {},
   "outputs": [
    {
     "name": "stdout",
     "output_type": "stream",
     "text": [
      "* * * * * \n",
      "\n",
      "* * * * * \n",
      "\n",
      "* * * * * \n",
      "\n",
      "* * * * * \n",
      "\n",
      "* * * * * \n",
      "\n"
     ]
    }
   ],
   "source": [
    "for i in range(0,5):\n",
    "    for j in range(0,5):\n",
    "        print(\"*\",end=\" \") \n",
    "    print(\"\\n\")"
   ]
  },
  {
   "cell_type": "code",
   "execution_count": 40,
   "id": "bc0dafda",
   "metadata": {},
   "outputs": [
    {
     "name": "stdout",
     "output_type": "stream",
     "text": [
      "* * * * * * * * * * * \t\n",
      " * * * * * * * * * * \t\n",
      "  * * * * * * * * * \t\n",
      "   * * * * * * * * \t\n",
      "    * * * * * * * \t\n",
      "     * * * * * * \t\n",
      "      * * * * * \t\n",
      "       * * * * \t\n",
      "        * * * \t\n",
      "         * * \t\n",
      "          * \t\n"
     ]
    }
   ],
   "source": [
    "for i in range(10,-1,-1):\n",
    "    for k in range(10,i,-1):\n",
    "        print(\" \",end=\"\")     \n",
    "    for j in range(0,i+1):\n",
    "        print(\"*\",end = \" \") \n",
    "    print(\"\\t\")"
   ]
  },
  {
   "cell_type": "code",
   "execution_count": 48,
   "id": "37811d33",
   "metadata": {},
   "outputs": [
    {
     "name": "stdout",
     "output_type": "stream",
     "text": [
      "* * * * * \t\n",
      "*         \t\n",
      "* * * * * \t\n",
      "        * \t\n",
      "* * * * * \t\n"
     ]
    }
   ],
   "source": [
    "for i in range(5):\n",
    "    for j in range(5):\n",
    "        if i == 0 or i == 4 or i == 2:\n",
    "            for k in range(5):\n",
    "                print(\"*\",end=\" \")\n",
    "                break\n",
    "        else:\n",
    "            if j == 0 and i<2:\n",
    "                print(\"*\",end=\" \")\n",
    "            elif j == 4 and i>=2:\n",
    "                print(\"*\",end=\" \") \n",
    "            else:\n",
    "                print(\" \",end=\" \")\n",
    "    print(\"\\t\")\n",
    "        "
   ]
  },
  {
   "cell_type": "code",
   "execution_count": null,
   "id": "e2f948f7",
   "metadata": {},
   "outputs": [],
   "source": [
    "for i in range(5)"
   ]
  }
 ],
 "metadata": {
  "kernelspec": {
   "display_name": "Python 3 (ipykernel)",
   "language": "python",
   "name": "python3"
  },
  "language_info": {
   "codemirror_mode": {
    "name": "ipython",
    "version": 3
   },
   "file_extension": ".py",
   "mimetype": "text/x-python",
   "name": "python",
   "nbconvert_exporter": "python",
   "pygments_lexer": "ipython3",
   "version": "3.9.12"
  }
 },
 "nbformat": 4,
 "nbformat_minor": 5
}
